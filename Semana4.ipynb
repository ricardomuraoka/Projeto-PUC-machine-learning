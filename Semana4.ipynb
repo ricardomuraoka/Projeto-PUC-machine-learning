{
  "nbformat": 4,
  "nbformat_minor": 0,
  "metadata": {
    "colab": {
      "name": "Semana4.ipynb",
      "provenance": []
    },
    "kernelspec": {
      "name": "python3",
      "display_name": "Python 3"
    },
    "language_info": {
      "name": "python"
    }
  },
  "cells": [
    {
      "cell_type": "code",
      "metadata": {
        "id": "ao_p2EUGlLyn"
      },
      "source": [
        "# Importando as bibliotecas que serão utilizadas\n",
        "import pandas as pd\n",
        "import numpy as np\n",
        "\n",
        "from pandas_profiling import ProfileReport\n",
        "from sklearn.impute import KNNImputer\n",
        "\n",
        "from sklearn.preprocessing import RobustScaler\n",
        "from sklearn import preprocessing\n",
        "\n",
        "from sklearn.model_selection import train_test_split\n",
        "from sklearn.svm import SVC, SVR\n",
        "from sklearn.metrics import plot_confusion_matrix\n",
        "from sklearn.model_selection import train_test_split"
      ],
      "execution_count": 166,
      "outputs": []
    },
    {
      "cell_type": "code",
      "metadata": {
        "id": "e1AZNM3lpGv7"
      },
      "source": [
        "# importando o dataset e obtendo uma vista geral do mesmo\n",
        "df_trip = pd.read_csv('tripadvisor_reviews.csv', sep=';')"
      ],
      "execution_count": 150,
      "outputs": []
    },
    {
      "cell_type": "code",
      "metadata": {
        "id": "YmL52zLSu3Xg"
      },
      "source": [
        "# Apagando colunas que não são importantes\n",
        "df_trip = df_trip.drop(columns=['usuario'], axis = 1)"
      ],
      "execution_count": 151,
      "outputs": []
    },
    {
      "cell_type": "code",
      "metadata": {
        "colab": {
          "base_uri": "https://localhost:8080/"
        },
        "id": "jb4_ysRM12PC",
        "outputId": "7cb87b16-5302-4115-cf14-6990c7709a7a"
      },
      "source": [
        "# Checando a tipagem do dos dados\n",
        "df_trip.dtypes"
      ],
      "execution_count": 152,
      "outputs": [
        {
          "output_type": "execute_result",
          "data": {
            "text/plain": [
              "media_galerias_arte         object\n",
              "media_baladas               object\n",
              "media_loja_sucos            object\n",
              "media_restaurantes          object\n",
              "media_museus                object\n",
              "media_resorts               object\n",
              "media_parques               object\n",
              "media_praias                object\n",
              "media_teatros               object\n",
              "media_templos_religiosos    object\n",
              "dtype: object"
            ]
          },
          "metadata": {},
          "execution_count": 152
        }
      ]
    },
    {
      "cell_type": "code",
      "metadata": {
        "id": "7WJoe-qR6WKt"
      },
      "source": [
        "# Substituindo virgulas por ponto para poder trabalhar com o dataset, outra opção seria alterar o local\n",
        "df_trip = df_trip.apply(lambda x: x.str.replace(',','.'))"
      ],
      "execution_count": 153,
      "outputs": []
    },
    {
      "cell_type": "code",
      "metadata": {
        "colab": {
          "base_uri": "https://localhost:8080/"
        },
        "id": "KvIB6tk8-uEC",
        "outputId": "73779250-40a2-4368-d705-50ea92f95f8c"
      },
      "source": [
        "# Verificando quantidade de linhas e colunas\n",
        "nRow, nCol = df_trip.shape\n",
        "print(f'There are {nRow} rows and {nCol} columns')"
      ],
      "execution_count": 154,
      "outputs": [
        {
          "output_type": "stream",
          "name": "stdout",
          "text": [
            "There are 980 rows and 10 columns\n"
          ]
        }
      ]
    },
    {
      "cell_type": "code",
      "metadata": {
        "id": "S9K7vVbk63_0"
      },
      "source": [
        "# Alterar o tipo de dados, pois estavam como objeto\n",
        "df_trip = df_trip.astype(float)"
      ],
      "execution_count": 155,
      "outputs": []
    },
    {
      "cell_type": "code",
      "metadata": {
        "colab": {
          "base_uri": "https://localhost:8080/"
        },
        "id": "pmh-WXDP9e4-",
        "outputId": "b677a0dd-c230-40e7-9ac8-5e807abbfb3c"
      },
      "source": [
        "# Conferindo se foi realizada a alteração com sucesso\n",
        "df_trip.dtypes"
      ],
      "execution_count": 156,
      "outputs": [
        {
          "output_type": "execute_result",
          "data": {
            "text/plain": [
              "media_galerias_arte         float64\n",
              "media_baladas               float64\n",
              "media_loja_sucos            float64\n",
              "media_restaurantes          float64\n",
              "media_museus                float64\n",
              "media_resorts               float64\n",
              "media_parques               float64\n",
              "media_praias                float64\n",
              "media_teatros               float64\n",
              "media_templos_religiosos    float64\n",
              "dtype: object"
            ]
          },
          "metadata": {},
          "execution_count": 156
        }
      ]
    },
    {
      "cell_type": "code",
      "metadata": {
        "colab": {
          "base_uri": "https://localhost:8080/",
          "height": 314
        },
        "id": "1DmbwNDiwsai",
        "outputId": "3e810342-360b-4ae1-f3d1-e53fe670deba"
      },
      "source": [
        "# Algumas informações essenciais do dataset\n",
        "df_trip.describe()"
      ],
      "execution_count": 157,
      "outputs": [
        {
          "output_type": "execute_result",
          "data": {
            "text/html": [
              "<div>\n",
              "<style scoped>\n",
              "    .dataframe tbody tr th:only-of-type {\n",
              "        vertical-align: middle;\n",
              "    }\n",
              "\n",
              "    .dataframe tbody tr th {\n",
              "        vertical-align: top;\n",
              "    }\n",
              "\n",
              "    .dataframe thead th {\n",
              "        text-align: right;\n",
              "    }\n",
              "</style>\n",
              "<table border=\"1\" class=\"dataframe\">\n",
              "  <thead>\n",
              "    <tr style=\"text-align: right;\">\n",
              "      <th></th>\n",
              "      <th>media_galerias_arte</th>\n",
              "      <th>media_baladas</th>\n",
              "      <th>media_loja_sucos</th>\n",
              "      <th>media_restaurantes</th>\n",
              "      <th>media_museus</th>\n",
              "      <th>media_resorts</th>\n",
              "      <th>media_parques</th>\n",
              "      <th>media_praias</th>\n",
              "      <th>media_teatros</th>\n",
              "      <th>media_templos_religiosos</th>\n",
              "    </tr>\n",
              "  </thead>\n",
              "  <tbody>\n",
              "    <tr>\n",
              "      <th>count</th>\n",
              "      <td>980.000000</td>\n",
              "      <td>980.000000</td>\n",
              "      <td>980.000000</td>\n",
              "      <td>980.000000</td>\n",
              "      <td>980.000000</td>\n",
              "      <td>980.000000</td>\n",
              "      <td>980.000000</td>\n",
              "      <td>980.000000</td>\n",
              "      <td>980.000000</td>\n",
              "      <td>980.000000</td>\n",
              "    </tr>\n",
              "    <tr>\n",
              "      <th>mean</th>\n",
              "      <td>0.893194</td>\n",
              "      <td>1.352612</td>\n",
              "      <td>1.013306</td>\n",
              "      <td>0.532500</td>\n",
              "      <td>0.939735</td>\n",
              "      <td>1.842898</td>\n",
              "      <td>3.180939</td>\n",
              "      <td>2.835061</td>\n",
              "      <td>1.569439</td>\n",
              "      <td>2.799224</td>\n",
              "    </tr>\n",
              "    <tr>\n",
              "      <th>std</th>\n",
              "      <td>0.326912</td>\n",
              "      <td>0.478280</td>\n",
              "      <td>0.788607</td>\n",
              "      <td>0.279731</td>\n",
              "      <td>0.437430</td>\n",
              "      <td>0.539538</td>\n",
              "      <td>0.007824</td>\n",
              "      <td>0.137505</td>\n",
              "      <td>0.364629</td>\n",
              "      <td>0.321380</td>\n",
              "    </tr>\n",
              "    <tr>\n",
              "      <th>min</th>\n",
              "      <td>0.340000</td>\n",
              "      <td>0.000000</td>\n",
              "      <td>0.130000</td>\n",
              "      <td>0.150000</td>\n",
              "      <td>0.060000</td>\n",
              "      <td>0.140000</td>\n",
              "      <td>3.160000</td>\n",
              "      <td>2.420000</td>\n",
              "      <td>0.740000</td>\n",
              "      <td>2.140000</td>\n",
              "    </tr>\n",
              "    <tr>\n",
              "      <th>25%</th>\n",
              "      <td>0.670000</td>\n",
              "      <td>1.080000</td>\n",
              "      <td>0.270000</td>\n",
              "      <td>0.410000</td>\n",
              "      <td>0.640000</td>\n",
              "      <td>1.460000</td>\n",
              "      <td>3.180000</td>\n",
              "      <td>2.740000</td>\n",
              "      <td>1.310000</td>\n",
              "      <td>2.540000</td>\n",
              "    </tr>\n",
              "    <tr>\n",
              "      <th>50%</th>\n",
              "      <td>0.830000</td>\n",
              "      <td>1.280000</td>\n",
              "      <td>0.820000</td>\n",
              "      <td>0.500000</td>\n",
              "      <td>0.900000</td>\n",
              "      <td>1.800000</td>\n",
              "      <td>3.180000</td>\n",
              "      <td>2.820000</td>\n",
              "      <td>1.540000</td>\n",
              "      <td>2.780000</td>\n",
              "    </tr>\n",
              "    <tr>\n",
              "      <th>75%</th>\n",
              "      <td>1.020000</td>\n",
              "      <td>1.560000</td>\n",
              "      <td>1.572500</td>\n",
              "      <td>0.580000</td>\n",
              "      <td>1.200000</td>\n",
              "      <td>2.200000</td>\n",
              "      <td>3.180000</td>\n",
              "      <td>2.910000</td>\n",
              "      <td>1.760000</td>\n",
              "      <td>3.040000</td>\n",
              "    </tr>\n",
              "    <tr>\n",
              "      <th>max</th>\n",
              "      <td>3.220000</td>\n",
              "      <td>3.640000</td>\n",
              "      <td>3.620000</td>\n",
              "      <td>3.440000</td>\n",
              "      <td>3.300000</td>\n",
              "      <td>3.760000</td>\n",
              "      <td>3.210000</td>\n",
              "      <td>3.390000</td>\n",
              "      <td>3.170000</td>\n",
              "      <td>3.660000</td>\n",
              "    </tr>\n",
              "  </tbody>\n",
              "</table>\n",
              "</div>"
            ],
            "text/plain": [
              "       media_galerias_arte  ...  media_templos_religiosos\n",
              "count           980.000000  ...                980.000000\n",
              "mean              0.893194  ...                  2.799224\n",
              "std               0.326912  ...                  0.321380\n",
              "min               0.340000  ...                  2.140000\n",
              "25%               0.670000  ...                  2.540000\n",
              "50%               0.830000  ...                  2.780000\n",
              "75%               1.020000  ...                  3.040000\n",
              "max               3.220000  ...                  3.660000\n",
              "\n",
              "[8 rows x 10 columns]"
            ]
          },
          "metadata": {},
          "execution_count": 157
        }
      ]
    },
    {
      "cell_type": "code",
      "metadata": {
        "colab": {
          "base_uri": "https://localhost:8080/",
          "height": 68
        },
        "id": "oNuGwx8Gzp-S",
        "outputId": "b35149ac-9161-419f-e86a-0340b4d77b10"
      },
      "source": [
        "# Verificando se existem dados nulos\n",
        "df_trip[pd.isna(df_trip).any(axis=1)]"
      ],
      "execution_count": 158,
      "outputs": [
        {
          "output_type": "execute_result",
          "data": {
            "text/html": [
              "<div>\n",
              "<style scoped>\n",
              "    .dataframe tbody tr th:only-of-type {\n",
              "        vertical-align: middle;\n",
              "    }\n",
              "\n",
              "    .dataframe tbody tr th {\n",
              "        vertical-align: top;\n",
              "    }\n",
              "\n",
              "    .dataframe thead th {\n",
              "        text-align: right;\n",
              "    }\n",
              "</style>\n",
              "<table border=\"1\" class=\"dataframe\">\n",
              "  <thead>\n",
              "    <tr style=\"text-align: right;\">\n",
              "      <th></th>\n",
              "      <th>media_galerias_arte</th>\n",
              "      <th>media_baladas</th>\n",
              "      <th>media_loja_sucos</th>\n",
              "      <th>media_restaurantes</th>\n",
              "      <th>media_museus</th>\n",
              "      <th>media_resorts</th>\n",
              "      <th>media_parques</th>\n",
              "      <th>media_praias</th>\n",
              "      <th>media_teatros</th>\n",
              "      <th>media_templos_religiosos</th>\n",
              "    </tr>\n",
              "  </thead>\n",
              "  <tbody>\n",
              "  </tbody>\n",
              "</table>\n",
              "</div>"
            ],
            "text/plain": [
              "Empty DataFrame\n",
              "Columns: [media_galerias_arte, media_baladas, media_loja_sucos, media_restaurantes, media_museus, media_resorts, media_parques, media_praias, media_teatros, media_templos_religiosos]\n",
              "Index: []"
            ]
          },
          "metadata": {},
          "execution_count": 158
        }
      ]
    },
    {
      "cell_type": "code",
      "metadata": {
        "id": "4mclLvs5sMlN"
      },
      "source": [
        "# Estabelecendo os critérios para treinamento\n",
        "\n",
        "X_train, X_test, y_train, y_test = train_test_split(df_trip.drop('media_baladas', axis = 1),\n",
        "                                                    df_trip['media_baladas'],\n",
        "                                                    test_size = 0.25,\n",
        "                                                    random_state=20)\n",
        "\n",
        "# fazendo o treinamento, com método de regressão\n",
        "modelo_treinado = SVR().fit(X_train, y_train)\n",
        "\n",
        "y_pred = modelo_treinado.predict(X_test)"
      ],
      "execution_count": 159,
      "outputs": []
    },
    {
      "cell_type": "code",
      "metadata": {
        "colab": {
          "base_uri": "https://localhost:8080/"
        },
        "id": "_cyPZd8hF-gK",
        "outputId": "b14e704a-26a3-4751-cf45-957812bd84ce"
      },
      "source": [
        "modelo_treinado.score(X_test, y_test)"
      ],
      "execution_count": 160,
      "outputs": [
        {
          "output_type": "execute_result",
          "data": {
            "text/plain": [
              "0.08870368685145003"
            ]
          },
          "metadata": {},
          "execution_count": 160
        }
      ]
    },
    {
      "cell_type": "code",
      "metadata": {
        "id": "uGIi1mLbH1NY"
      },
      "source": [
        "from lightgbm import LGBMRegressor\n",
        "from xgboost import XGBRegressor"
      ],
      "execution_count": 123,
      "outputs": []
    },
    {
      "cell_type": "code",
      "metadata": {
        "colab": {
          "base_uri": "https://localhost:8080/"
        },
        "id": "pE6lY6iCInH9",
        "outputId": "022842c8-44d7-42b8-8e27-d193ff3abf41"
      },
      "source": [
        "# fazendo o treinamento, com método de regressão, utilizando XGBoost\n",
        "modelo_treinadoXGB = XGBRegressor(random_state=0).fit(X_train, y_train)\n",
        "\n",
        "y_pred = modelo_treinadoXGB.predict(X_test)\n",
        "modelo_treinadoXGB.score(X_test, y_test)"
      ],
      "execution_count": 124,
      "outputs": [
        {
          "output_type": "stream",
          "name": "stdout",
          "text": [
            "[20:29:33] WARNING: /workspace/src/objective/regression_obj.cu:152: reg:linear is now deprecated in favor of reg:squarederror.\n"
          ]
        },
        {
          "output_type": "execute_result",
          "data": {
            "text/plain": [
              "0.14975787725067824"
            ]
          },
          "metadata": {},
          "execution_count": 124
        }
      ]
    },
    {
      "cell_type": "code",
      "metadata": {
        "colab": {
          "base_uri": "https://localhost:8080/"
        },
        "id": "OKwQH_kxI3in",
        "outputId": "77371018-61fb-4e84-b873-e86520351912"
      },
      "source": [
        "# fazendo o treinamento, com método de regressão, utilizando LightGBM\n",
        "modelo_treinadoLGBM = LGBMRegressor(random_state=0).fit(X_train, y_train)\n",
        "\n",
        "y_pred = modelo_treinadoLGBM.predict(X_test)\n",
        "modelo_treinadoLGBM.score(X_test, y_test)"
      ],
      "execution_count": 125,
      "outputs": [
        {
          "output_type": "execute_result",
          "data": {
            "text/plain": [
              "0.05071547188561387"
            ]
          },
          "metadata": {},
          "execution_count": 125
        }
      ]
    },
    {
      "cell_type": "code",
      "metadata": {
        "id": "MpIbmI1VJX6p"
      },
      "source": [
        ""
      ],
      "execution_count": null,
      "outputs": []
    }
  ]
}